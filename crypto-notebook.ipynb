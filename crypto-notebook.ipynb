{
 "cells": [
  {
   "cell_type": "markdown",
   "metadata": {},
   "source": [
    "# Einführung in die Kryptographie: Die Caesar-Verschlüsselung\n",
    "\n",
    "Willkommen zu dieser Einführungslektion in die Kryptographie! Heute lernen wir eine der ältesten und einfachsten Verschlüsselungsmethoden kennen: die Caesar-Verschlüsselung."
   ]
  },
  {
   "cell_type": "markdown",
   "metadata": {},
   "source": [
    "## Was ist Kryptographie?\n",
    "\n",
    "Kryptographie ist die Wissenschaft der sicheren Kommunikation durch Codes und Chiffren. Sie wird überall in unserer digitalen Welt eingesetzt, von der Absicherung von Websites bis zum Schutz Ihrer Nachrichten."
   ]
  },
  {
   "cell_type": "markdown",
   "metadata": {},
   "source": [
    "## Die Caesar-Verschlüsselung\n",
    "\n",
    "Die Caesar-Verschlüsselung ist nach Julius Caesar benannt, der sie für geheime Kommunikation verwendete. Es handelt sich um eine Substitutionschiffre, bei der jeder Buchstabe in der Nachricht um eine bestimmte Anzahl von Positionen im Alphabet verschoben wird.\n",
    "\n",
    "Zum Beispiel bei einer Verschiebung um 3:\n",
    "- 'A' wird zu 'D'\n",
    "- 'B' wird zu 'E'\n",
    "- 'Z' wird zu 'C' (es beginnt wieder von vorne)\n",
    "\n",
    "Beispiel: \"HALLO\" → \"KDOOR\" (mit Verschiebung = 3)"
   ]
  },
  {
   "cell_type": "markdown",
   "metadata": {},
   "source": [
    "## Programmier-Challenge\n",
    "\n",
    "Lass uns einen Caesar-Verschlüsselungs-Encoder und -Decoder in Python bauen! Wir werden dies in Schritte unterteilen."
   ]
  },
  {
   "cell_type": "markdown",
   "metadata": {},
   "source": [
    "### Schritt 1: ASCII verstehen\n",
    "\n",
    "Bevor wir mit dem Programmieren beginnen, verstehen wir, wie wir mit Buchstaben arbeiten. In Python können wir:\n",
    "- Einen Buchstaben mit `ord()` in seine ASCII-Nummer umwandeln\n",
    "- Eine ASCII-Nummer mit `chr()` zurück in einen Buchstaben umwandeln"
   ]
  },
  {
   "cell_type": "code",
   "execution_count": 1,
   "metadata": {},
   "outputs": [
    {
     "name": "stdout",
     "output_type": "stream",
     "text": [
      "65\n",
      "A\n"
     ]
    }
   ],
   "source": [
    "# Konvertiere 'A' in seine ASCII-Nummer\n",
    "print(ord('A'))  # Sollte 65 ausgeben\n",
    "\n",
    "# Konvertiere ASCII 65 zurück zu 'A'\n",
    "print(chr(65))   # Sollte 'A' ausgeben"
   ]
  },
  {
   "cell_type": "markdown",
   "metadata": {},
   "source": [
    "Im folgenden seht ihr die ASCII-Tabelle für Buchstaben:\n",
    "\n",
    "| Buchstabe | ASCII |\n",
    "|-----------|-------|\n",
    "| 'A'       | 65    |\n",
    "| 'B'       | 66    |\n",
    "| ...       | ...   |\n",
    "| 'Z'       | 90    |\n",
    "| 'a'       | 97    |\n",
    "| 'b'       | 98    |\n",
    "| ...       | ...   |\n",
    "| 'z'       | 122   |"
   ]
  },
  {
   "cell_type": "markdown",
   "metadata": {},
   "source": [
    "### Schritt 2: Verschlüsselungsfunktion erstellen\n",
    "\n",
    "Jetzt schreiben wir eine Funktion zum Verschlüsseln einer Nachricht. Hier ist das Grundgerüst:"
   ]
  },
  {
   "cell_type": "code",
   "execution_count": 2,
   "metadata": {},
   "outputs": [
    {
     "name": "stdout",
     "output_type": "stream",
     "text": [
      "Original: HALLO\n",
      "Verschlüsselt: None\n"
     ]
    }
   ],
   "source": [
    "def verschluesseln_caesar(text, verschiebung):\n",
    "    # Dein Code hier\n",
    "    pass\n",
    "\n",
    "# Teste deine Funktion\n",
    "nachricht = \"HALLO\"\n",
    "verschiebung = 3\n",
    "verschluesselt = verschluesseln_caesar(nachricht, verschiebung)\n",
    "print(f\"Original: {nachricht}\")\n",
    "print(f\"Verschlüsselt: {verschluesselt}\")"
   ]
  },
  {
   "cell_type": "markdown",
   "metadata": {},
   "source": [
    "Versuche, diese Funktion zu implementieren! Hier sind einige Hinweise:\n",
    "1. Gehe jeden Buchstaben im Text durch\n",
    "2. Wandle jeden Buchstaben in seine ASCII-Nummer um\n",
    "3. Addiere den Verschiebungswert\n",
    "4. Behandle den Überlauf (wenn du über 'Z' hinausgehst)\n",
    "5. Wandle zurück in einen Buchstaben um"
   ]
  },
  {
   "cell_type": "markdown",
   "metadata": {},
   "source": [
    "### Schritt 3: Entschlüsselungsfunktion erstellen\n",
    "\n",
    "Wenn die Verschlüsselung funktioniert, versuche eine Entschlüsselungsfunktion zu erstellen:"
   ]
  },
  {
   "cell_type": "code",
   "execution_count": 3,
   "metadata": {},
   "outputs": [
    {
     "name": "stdout",
     "output_type": "stream",
     "text": [
      "Verschlüsselt: KDOOR\n",
      "Entschlüsselt: None\n"
     ]
    }
   ],
   "source": [
    "def entschluesseln_caesar(text, verschiebung):\n",
    "    # Dein Code hier\n",
    "    pass\n",
    "\n",
    "# Teste deine Funktion\n",
    "verschluesselte_nachricht = \"KDOOR\"\n",
    "verschiebung = 3\n",
    "entschluesselt = entschluesseln_caesar(verschluesselte_nachricht, verschiebung)\n",
    "print(f\"Verschlüsselt: {verschluesselte_nachricht}\")\n",
    "print(f\"Entschlüsselt: {entschluesselt}\")"
   ]
  },
  {
   "cell_type": "markdown",
   "metadata": {},
   "source": [
    "### Challenge-Fragen:\n",
    "1. Was passiert, wenn deine Eingabe Leerzeichen oder Satzzeichen enthält?\n",
    "2. Wie würdest du deine Funktion anpassen, um Kleinbuchstaben zu behandeln?\n",
    "3. Kannst du eine Eingabevalidierung für gültige Verschiebungswerte hinzufügen?"
   ]
  },
  {
   "cell_type": "markdown",
   "metadata": {},
   "source": [
    "## Lösung\n",
    "\n",
    "Hier ist eine vollständige Lösung mit Verschlüsselung und Entschlüsselung:"
   ]
  },
  {
   "cell_type": "code",
   "execution_count": 4,
   "metadata": {},
   "outputs": [
    {
     "name": "stdout",
     "output_type": "stream",
     "text": [
      "Original: Hallo, Welt!\n",
      "Verschlüsselt: Kdoor, Zhow!\n",
      "Entschlüsselt: Hallo, Welt!\n"
     ]
    }
   ],
   "source": [
    "def verschluesseln_caesar(text, verschiebung):\n",
    "    ergebnis = \"\"\n",
    "    for zeichen in text:\n",
    "        if zeichen.isalpha():\n",
    "            # ASCII-Nummer holen und auf 0-25 Bereich normalisieren\n",
    "            ascii_offset = ord('A') if zeichen.isupper() else ord('a')\n",
    "            verschoben = (ord(zeichen) - ascii_offset + verschiebung) % 26\n",
    "            # Zurück in Zeichen umwandeln\n",
    "            ergebnis += chr(verschoben + ascii_offset)\n",
    "        else:\n",
    "            # Nicht-alphabetische Zeichen unverändert lassen\n",
    "            ergebnis += zeichen\n",
    "    return ergebnis\n",
    "\n",
    "def entschluesseln_caesar(text, verschiebung):\n",
    "    # Entschlüsselung ist nur Verschlüsselung mit negativer Verschiebung\n",
    "    return verschluesseln_caesar(text, -verschiebung)\n",
    "\n",
    "# Teste die Funktionen\n",
    "nachricht = \"Hallo, Welt!\"\n",
    "verschiebung = 3\n",
    "\n",
    "verschluesselt = verschluesseln_caesar(nachricht, verschiebung)\n",
    "entschluesselt = entschluesseln_caesar(verschluesselt, verschiebung)\n",
    "\n",
    "print(f\"Original: {nachricht}\")\n",
    "print(f\"Verschlüsselt: {verschluesselt}\")\n",
    "print(f\"Entschlüsselt: {entschluesselt}\")"
   ]
  },
  {
   "cell_type": "markdown",
   "metadata": {},
   "source": [
    "### Wie es funktioniert\n",
    "\n",
    "Die Lösung enthält mehrere wichtige Funktionen:\n",
    "1. Behandelt sowohl Groß- als auch Kleinbuchstaben\n",
    "2. Behält nicht-alphabetische Zeichen bei\n",
    "3. Behandelt den Überlauf korrekt mit dem Modulo-Operator (%)\n",
    "4. Verwendet die gleiche Funktion für Ver- und Entschlüsselung\n",
    "\n",
    "Die wichtigsten Schritte im Verschlüsselungsprozess sind:\n",
    "1. Buchstabe in Zahl umwandeln (0-25)\n",
    "2. Verschiebungswert addieren\n",
    "3. Modulo 26 für den Überlauf verwenden\n",
    "4. Zurück in Buchstaben umwandeln"
   ]
  },
  {
   "cell_type": "markdown",
   "metadata": {},
   "source": [
    "### Zusätzliche Herausforderungen\n",
    "\n",
    "Jetzt, wo du eine funktionsfähige Implementierung hast, versuche diese Erweiterungen:\n",
    "1. Füge Unterstützung für verschiedene Alphabete hinzu\n",
    "2. Implementiere eine Brute-Force-Funktion, die alle möglichen Verschiebungen ausprobiert\n",
    "3. Füge eine Häufigkeitsanalyse hinzu, um die Verschlüsselung automatisch zu knacken\n",
    "4. Erstelle eine grafische Oberfläche mit tkinter\n",
    "\n",
    "Denk daran: Die Caesar-Verschlüsselung ist nicht sicher für echte Verschlüsselung - sie dient nur zum Lernen! Moderne Kryptographie verwendet viel komplexere Algorithmen."
   ]
  }
 ],
 "metadata": {
  "kernelspec": {
   "display_name": "ecg",
   "language": "python",
   "name": "python3"
  },
  "language_info": {
   "codemirror_mode": {
    "name": "ipython",
    "version": 3
   },
   "file_extension": ".py",
   "mimetype": "text/x-python",
   "name": "python",
   "nbconvert_exporter": "python",
   "pygments_lexer": "ipython3",
   "version": "3.11.10"
  }
 },
 "nbformat": 4,
 "nbformat_minor": 4
}
