{
 "cells": [
  {
   "cell_type": "markdown",
   "metadata": {},
   "source": [
    "# Python-Einführung für C#-Programmierer\n",
    "*Eine 90-minütige praktische Sitzung*\n",
    "\n",
    "## Überblick (5 Minuten)\n",
    "- Was wir behandeln werden\n",
    "- Warum Python in Data Science, KI und Webentwicklung beliebt ist\n",
    "- Wichtige Unterschiede zu C#"
   ]
  },
  {
   "cell_type": "markdown",
   "metadata": {},
   "source": [
    "## Teil 1: Python-Grundlagen (20 Minuten)\n",
    "\n",
    "### Python vs C#: Wichtige Unterschiede"
   ]
  },
  {
   "cell_type": "code",
   "execution_count": 2,
   "metadata": {},
   "outputs": [
    {
     "name": "stdout",
     "output_type": "stream",
     "text": [
      "Name: Alice, Nummer: 42\n"
     ]
    }
   ],
   "source": [
    "# Python\n",
    "name = \"Alice\"    # Keine Typdeklaration notwendig\n",
    "number = 42       # Variablen können den Typ wechseln\n",
    "print(f\"Name: {name}, Nummer: {number}\")"
   ]
  },
  {
   "cell_type": "markdown",
   "metadata": {},
   "source": [
    "In C# würden wir schreiben:\n",
    "```csharp\n",
    "string name = \"Alice\";  // Typdeklaration erforderlich\n",
    "int number = 42;        // Fester Typ\n",
    "```"
   ]
  },
  {
   "cell_type": "markdown",
   "metadata": {},
   "source": [
    "### Kernkonzepte\n",
    "1. Dynamische Typisierung"
   ]
  },
  {
   "cell_type": "code",
   "execution_count": 5,
   "metadata": {},
   "outputs": [
    {
     "name": "stdout",
     "output_type": "stream",
     "text": [
      "x ist: 5, Typ: <class 'int'>\n",
      "x ist jetzt: hallo, Typ: <class 'str'>\n"
     ]
    }
   ],
   "source": [
    "x = 5           # x ist ein Integer\n",
    "print(f\"x ist: {x}, Typ: {type(x)}\")\n",
    "\n",
    "x = \"hallo\"     # jetzt ist x ein String - in Python völlig legal!\n",
    "print(f\"x ist jetzt: {x}, Typ: {type(x)}\")"
   ]
  },
  {
   "cell_type": "markdown",
   "metadata": {},
   "source": [
    "2. Einrückung ist wichtig"
   ]
  },
  {
   "cell_type": "code",
   "execution_count": null,
   "metadata": {},
   "outputs": [],
   "source": [
    "# Python verwendet Einrückungen für Codeblöcke\n",
    "x = 15\n",
    "if x > 0:\n",
    "    print(\"Positiv\")\n",
    "    if x > 10:\n",
    "        print(\"Groß\")"
   ]
  },
  {
   "cell_type": "markdown",
   "metadata": {},
   "source": [
    "3. Listen vs C# Arrays"
   ]
  },
  {
   "cell_type": "code",
   "execution_count": 6,
   "metadata": {},
   "outputs": [
    {
     "name": "stdout",
     "output_type": "stream",
     "text": [
      "Gemischte Liste: [1, 'hallo', 3.14]\n",
      "Zahlen nach append: [1, 2, 3, 4]\n",
      "Erste zwei Elemente: [1, 2]\n"
     ]
    },
    {
     "data": {
      "text/plain": [
       "4"
      ]
     },
     "execution_count": 6,
     "metadata": {},
     "output_type": "execute_result"
    }
   ],
   "source": [
    "# Python-Listen können verschiedene Typen enthalten\n",
    "gemischte_liste = [1, \"hallo\", 3.14]\n",
    "print(\"Gemischte Liste:\", gemischte_liste)\n",
    "\n",
    "zahlen = [1, 2, 3]\n",
    "zahlen.append(4)    # Dynamische Größenanpassung\n",
    "print(\"Zahlen nach append:\", zahlen)\n",
    "\n",
    "# List Slicing\n",
    "erste_zwei = zahlen[0:2]  # Erhält Elemente 0 und 1\n",
    "print(\"Erste zwei Elemente:\", erste_zwei)\n",
    "\n",
    "zahlen[-1]"
   ]
  },
  {
   "cell_type": "markdown",
   "metadata": {},
   "source": [
    "4. Dictionaries (Ähnlich wie C# Dictionaries)"
   ]
  },
  {
   "cell_type": "code",
   "execution_count": 7,
   "metadata": {},
   "outputs": [
    {
     "name": "stdout",
     "output_type": "stream",
     "text": [
      "Schülername: Heidi\n",
      "Alle Schülerdaten: {'name': 'Heidi', 'alter': 17, 'noten': [1, 2, 3]}\n",
      "Schüler nach Update: {'name': 'Heidi', 'alter': 17, 'noten': [1, 2, 3], 'klasse': 12}\n",
      "Schülerklasse: 12\n"
     ]
    }
   ],
   "source": [
    "schueler = {\n",
    "    \"name\": \"Heidi\",\n",
    "    \"alter\": 17,\n",
    "    \"noten\": [1, 2, 3]\n",
    "}\n",
    "print(\"Schülername:\", schueler[\"name\"])\n",
    "print(\"Alle Schülerdaten:\", schueler)\n",
    "\n",
    "# hinzufügen eines weiteren Eintrags\n",
    "\n",
    "schueler.update({\"klasse\": 12})\n",
    "print(\"Schüler nach Update:\", schueler)\n",
    "print(\"Schülerklasse:\", schueler[\"klasse\"])"
   ]
  },
  {
   "cell_type": "markdown",
   "metadata": {},
   "source": [
    "## Teil 2: Funktionen und Klassen (20 Minuten)\n",
    "\n",
    "### Funktionen"
   ]
  },
  {
   "cell_type": "code",
   "execution_count": 8,
   "metadata": {},
   "outputs": [
    {
     "name": "stdout",
     "output_type": "stream",
     "text": [
      "Durchschnitt: 2.5\n"
     ]
    }
   ],
   "source": [
    "def durchschnitt_berechnen(zahlen):\n",
    "    return sum(zahlen) / len(zahlen)\n",
    "\n",
    "# Aufruf\n",
    "noten = [1, 2, 3, 4]\n",
    "avg = durchschnitt_berechnen(noten)\n",
    "print(f\"Durchschnitt: {avg}\")"
   ]
  },
  {
   "cell_type": "markdown",
   "metadata": {},
   "source": [
    "### Klassen"
   ]
  },
  {
   "cell_type": "code",
   "execution_count": 10,
   "metadata": {},
   "outputs": [
    {
     "name": "stdout",
     "output_type": "stream",
     "text": [
      "Sepp ist 18 Jahre alt\n"
     ]
    }
   ],
   "source": [
    "class Schueler:\n",
    "    def __init__(self, name, alter):  # Konstruktor\n",
    "        self.name = name\n",
    "        self.alter = alter\n",
    "    \n",
    "    def get_info(self):  # Methode\n",
    "        return f\"{self.name} ist {self.alter} Jahre alt\"\n",
    "\n",
    "# Objekt erstellen\n",
    "sepp = Schueler(\"Sepp\", 18)\n",
    "print(sepp.get_info())"
   ]
  },
  {
   "cell_type": "code",
   "execution_count": 11,
   "metadata": {},
   "outputs": [
    {
     "name": "stdout",
     "output_type": "stream",
     "text": [
      "Heidi ist 17 Jahre alt\n",
      "Sepp ist 18 Jahre alt\n",
      "Peter ist 16 Jahre alt\n"
     ]
    }
   ],
   "source": [
    "# Dictionary mit Schülern\n",
    "schueler = {\n",
    "    \"heidi\": Schueler(\"Heidi\", 17),\n",
    "    \"sepp\": Schueler(\"Sepp\", 18)\n",
    "}\n",
    "\n",
    "print(schueler[\"heidi\"].get_info())\n",
    "print(schueler[\"sepp\"].get_info())\n",
    "\n",
    "# Weiteren Schüler hinzufügen\n",
    "schueler[\"peter\"] = Schueler(\"Peter\", 16)\n",
    "print(schueler[\"peter\"].get_info())"
   ]
  },
  {
   "cell_type": "markdown",
   "metadata": {},
   "source": [
    "## Teil 3: Pythons Superpower - Bibliotheken (20 Minuten)\n",
    "\n",
    "### Verwendung externer Bibliotheken"
   ]
  },
  {
   "cell_type": "code",
   "execution_count": 12,
   "metadata": {},
   "outputs": [
    {
     "name": "stdout",
     "output_type": "stream",
     "text": [
      "Wurzel aus 16: 4.0\n"
     ]
    }
   ],
   "source": [
    "# Mathematische Operationen\n",
    "import math\n",
    "print(\"Wurzel aus 16:\", math.sqrt(16))"
   ]
  },
  {
   "cell_type": "code",
   "execution_count": 13,
   "metadata": {},
   "outputs": [
    {
     "name": "stdout",
     "output_type": "stream",
     "text": [
      "Mittelwert: 3\n",
      "Median: 3\n"
     ]
    }
   ],
   "source": [
    "# Listenoperationen\n",
    "from statistics import mean, median\n",
    "zahlen = [1, 2, 3, 4, 5]\n",
    "print(\"Mittelwert:\", mean(zahlen))\n",
    "print(\"Median:\", median(zahlen))"
   ]
  },
  {
   "cell_type": "markdown",
   "metadata": {},
   "source": [
    "### Praxisbeispiel: Datenanalyse"
   ]
  },
  {
   "cell_type": "code",
   "execution_count": null,
   "metadata": {},
   "outputs": [],
   "source": [
    "# Wenn pandas installiert ist:\n",
    "import pandas as pd\n",
    "\n",
    "# Einfachen Datensatz erstellen\n",
    "daten = {\n",
    "    'name': ['Sepp', 'Franz', 'Heidi'],\n",
    "    'alter': [18, 17, 18],\n",
    "    'note': [3, 4, 2]\n",
    "}\n",
    "df = pd.DataFrame(daten)\n",
    "print(\"Datensatz:\")\n",
    "display(df)\n",
    "print(\"\\nStatistische Zusammenfassung:\")\n",
    "display(df.describe())"
   ]
  },
  {
   "cell_type": "markdown",
   "metadata": {},
   "source": [
    "## Programmier-Challenge (20 Minuten + 5 Minuten Besprechung)\n",
    "\n",
    "Erstelle ein Programm, das einen einfachen Notenrechner simuliert. Das Programm soll:\n",
    "1. Das Hinzufügen von Schülern mit ihren Namen ermöglichen\n",
    "2. Das Hinzufügen von Noten für jeden Schüler ermöglichen\n",
    "3. Den Notendurchschnitt für jeden Schüler berechnen\n",
    "4. Den Schüler mit dem höchsten Durchschnitt finden\n",
    "\n",
    "Hier ist eine Startvorlage:"
   ]
  },
  {
   "cell_type": "code",
   "execution_count": 23,
   "metadata": {},
   "outputs": [
    {
     "name": "stdout",
     "output_type": "stream",
     "text": [
      "{'Gudrun': 1, 'Heidi': 5, 'Max': 2, 'Sepp': 4, 'Hans': 3}\n"
     ]
    },
    {
     "data": {
      "text/plain": [
       "'Gudrun'"
      ]
     },
     "execution_count": 23,
     "metadata": {},
     "output_type": "execute_result"
    }
   ],
   "source": [
    "class Notenbuch:\n",
    "    def __init__(self):\n",
    "        # Initialisiere deine Datenstruktur hier\n",
    "        self.schueler = {}\n",
    "    \n",
    "    def schueler_hinzufuegen(self, name):\n",
    "        # Code hier einfügen\n",
    "        self.schueler[name] = {\"name\":name,\"noten\":[]}\n",
    "    \n",
    "    def note_hinzufuegen(self, schueler_name, note):\n",
    "        # Code hier einfügen\n",
    "        if schueler_name in self.schueler.keys():\n",
    "            self.schueler[schueler_name][\"noten\"].append(note)\n",
    "    \n",
    "    def durchschnitt_berechnen(self, schueler_name):\n",
    "        # Code hier einfügen\n",
    "        if schueler_name in self.schueler.keys():\n",
    "            return mean(self.schueler[schueler_name][\"noten\"])\n",
    "    \n",
    "    def bester_schueler(self):\n",
    "        # Code hier einfügen\n",
    "        durchschnitt = { s : self.durchschnitt_berechnen(s) for s in self.schueler.keys() }\n",
    "        # finde besten \n",
    "        best = 6\n",
    "        best_name = \"keiner\"\n",
    "        for s in durchschnitt.keys(): \n",
    "            if durchschnitt[s] <= best:\n",
    "                best = durchschnitt[s]\n",
    "                best_name = s\n",
    "        return best_name\n",
    "        \n",
    "\n",
    "# Teste deine Implementierung:\n",
    "notenbuch = Notenbuch()\n",
    "notenbuch.schueler_hinzufuegen(\"Gudrun\")\n",
    "notenbuch.schueler_hinzufuegen(\"Heidi\")\n",
    "notenbuch.schueler_hinzufuegen(\"Max\")\n",
    "notenbuch.schueler_hinzufuegen(\"Sepp\")\n",
    "notenbuch.schueler_hinzufuegen(\"Hans\")\n",
    "\n",
    "notenbuch.note_hinzufuegen(\"Gudrun\", 1)\n",
    "notenbuch.note_hinzufuegen(\"Max\", 2)\n",
    "notenbuch.note_hinzufuegen(\"Sepp\", 4)\n",
    "notenbuch.note_hinzufuegen(\"Heidi\", 5)\n",
    "notenbuch.note_hinzufuegen(\"Hans\",3 )\n",
    "\n",
    "\n",
    "notenbuch.bester_schueler()"
   ]
  },
  {
   "cell_type": "markdown",
   "metadata": {},
   "source": [
    "### Lösungshinweise\n",
    "- Verwende ein Dictionary zur Speicherung der Schülerdaten\n",
    "- Überlege, wie du mit Fehlern umgehst (z.B. Noten für nicht existierende Schüler)\n",
    "- Versuche, deinen Code effizient zu gestalten"
   ]
  },
  {
   "cell_type": "markdown",
   "metadata": {},
   "source": [
    "## Zusammenfassung (5 Minuten)\n",
    "- Wiederholung der wichtigsten Unterschiede zu C#\n",
    "- Besprechung der Challenge-Lösung\n",
    "- Ressourcen für weiteres Lernen\n",
    "\n",
    "## Nächste Schritte\n",
    "- Üben mit weiteren Python-Aufgaben\n",
    "- Erkundung beliebter Python-Bibliotheken (pandas, numpy, matplotlib)\n",
    "- Entwicklung eines kleinen Projekts"
   ]
  }
 ],
 "metadata": {
  "kernelspec": {
   "display_name": "Python 3 (ipykernel)",
   "language": "python",
   "name": "python3"
  },
  "language_info": {
   "codemirror_mode": {
    "name": "ipython",
    "version": 3
   },
   "file_extension": ".py",
   "mimetype": "text/x-python",
   "name": "python",
   "nbconvert_exporter": "python",
   "pygments_lexer": "ipython3",
   "version": "3.12.3"
  }
 },
 "nbformat": 4,
 "nbformat_minor": 4
}
